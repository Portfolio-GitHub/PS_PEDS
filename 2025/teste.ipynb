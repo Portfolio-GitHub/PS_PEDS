{
 "cells": [
  {
   "cell_type": "markdown",
   "metadata": {},
   "source": [
    "# Teste de Python - Cadastro Nacional de Obras (CNO)\n",
    "O **Cadastro Nacional de Obras (CNO)** é um banco de dados mantido pela CAIXA Econômica Federal, que reúne informações sobre **todas as obras de construção civil no Brasil**. O objetivo do CNO é registrar e centralizar informações relacionadas aos empreendimentos, sejam eles públicos ou privados, incluindo dados sobre os responsáveis pelas obras, os tipos de empreendimentos, a localização e outros aspectos relevantes.\n",
    "Percebemos que estes dados podem ser uteis para avaliarmos o potencial venda de tintas por municipio do Brasil"
   ]
  },
  {
   "cell_type": "markdown",
   "metadata": {},
   "source": [
    "### Instruções:\n",
    "- O candidato deve responder as questões usando o Python e a biblioteca Pandas.\n",
    "- O candidato pode usar qualquer recurso disponível para responder às questões (exceto consulta direta a outras pessoas, ou ferramentas de IA)."
   ]
  },
  {
   "cell_type": "markdown",
   "metadata": {},
   "source": [
    "### Pré-requisitos\n",
    "Antes de começar, o candidato deve importar os seguintes pacotes:"
   ]
  },
  {
   "cell_type": "code",
   "execution_count": null,
   "metadata": {},
   "outputs": [],
   "source": [
    "import pandas as pd\n",
    "import numpy as np\n",
    "import matplotlib.pyplot as plt\n",
    "import seaborn as sns"
   ]
  },
  {
   "cell_type": "markdown",
   "metadata": {},
   "source": [
    "### Carregando o Dataset\n",
    "O primeiro passo é carregar o conjunto de dados do CNO (cno.csv). abaixo o exemplo de como carregar um arquivo em formato CSV:"
   ]
  },
  {
   "cell_type": "code",
   "execution_count": null,
   "metadata": {},
   "outputs": [],
   "source": [
    "# Carregar o dataset\n",
    "df = pd.read_csv('cno.csv', encoding='latin-1')"
   ]
  },
  {
   "cell_type": "markdown",
   "metadata": {},
   "source": [
    "### Questão 1 - Analisando os dados\n",
    "Liste as primeiras linhas do dataframe"
   ]
  },
  {
   "cell_type": "code",
   "execution_count": null,
   "metadata": {},
   "outputs": [],
   "source": [
    "#resposta"
   ]
  },
  {
   "cell_type": "markdown",
   "metadata": {},
   "source": [
    "### Questão 2 - Informações do dataframe\n",
    "Liste as informações sobre as colunas existentes no conjunto de dados."
   ]
  },
  {
   "cell_type": "code",
   "execution_count": null,
   "metadata": {},
   "outputs": [],
   "source": [
    "#resposta"
   ]
  },
  {
   "cell_type": "markdown",
   "metadata": {},
   "source": [
    "### Questão 3 - Filtro por UF\n",
    "Filtre os dados para os estados de **São Paulo**, **Rio de Janeiro** e **Minas Gerais**, verifique o total de registros."
   ]
  },
  {
   "cell_type": "code",
   "execution_count": null,
   "metadata": {},
   "outputs": [],
   "source": [
    "#resposta"
   ]
  },
  {
   "cell_type": "markdown",
   "metadata": {},
   "source": [
    "### Questão 4 - Filtro por UF\n",
    "Para considerar apenas empresas, Remova todos os registros onde o **NI do responsável** estiver vazio "
   ]
  },
  {
   "cell_type": "code",
   "execution_count": null,
   "metadata": {},
   "outputs": [],
   "source": [
    "#resposta"
   ]
  },
  {
   "cell_type": "markdown",
   "metadata": {},
   "source": [
    "### Questão 5 - Analisando a Distribuição de Empresas\n",
    "calcule a quantidade de obras registradas para cada **'Nome empresarial**."
   ]
  },
  {
   "cell_type": "code",
   "execution_count": null,
   "metadata": {},
   "outputs": [],
   "source": [
    "#resposta"
   ]
  },
  {
   "cell_type": "markdown",
   "metadata": {},
   "source": [
    "### Questão 6 - Distribuição das Obras por Situação\n",
    "Mostre um gráfico de barras com a quantidade de obras por Situação. Use a coluna **Situação** para classificar a situação da obra, onde:\n",
    "- 01 NULA \n",
    "- 02 ATIVA \n",
    "- 03 SUSPENSA \n",
    "- 14 PARALISADA\n",
    "- 15 ENCERRADA"
   ]
  },
  {
   "cell_type": "code",
   "execution_count": null,
   "metadata": {},
   "outputs": [],
   "source": [
    "#resposta"
   ]
  },
  {
   "cell_type": "markdown",
   "metadata": {},
   "source": [
    "### Questão 7- Limpeza do dataframe\n",
    "Filtre os dados para considerar apenas as obras com a situação **02 ATIVA**. Daqui para frente utilizaremos apenas estes dados filtrados."
   ]
  },
  {
   "cell_type": "code",
   "execution_count": null,
   "metadata": {},
   "outputs": [],
   "source": [
    "#resposta"
   ]
  },
  {
   "cell_type": "markdown",
   "metadata": {},
   "source": [
    "### Questão 8 - Analisando Data de Início e Término\n",
    "Com o auxilio do arquivo **CNO_VINCULOS.CSV**,  Crie uma nova coluna chamada **Duração** que calcule a diferença entre a data de início e término das obras. Em seguida, calcule a média da duração das obras."
   ]
  },
  {
   "cell_type": "code",
   "execution_count": null,
   "metadata": {},
   "outputs": [],
   "source": [
    "#resposta"
   ]
  },
  {
   "cell_type": "markdown",
   "metadata": {},
   "source": [
    "### Questão 9 - Potencial de tintas por municipio\n",
    "Com o auxilio do campo **Área total**, calcule o potencial de vendas de tinta, considere **Litros de tinta =  Área total / 10**. Mostre a informação por **UF** e **Nome do Municipio**."
   ]
  },
  {
   "cell_type": "code",
   "execution_count": null,
   "metadata": {},
   "outputs": [],
   "source": [
    "#resposta"
   ]
  },
  {
   "cell_type": "markdown",
   "metadata": {},
   "source": [
    "### OPCIONAL - Clustering de Obras por Localização e Custo\n",
    "Realize uma análise de clustering das obras com base nas variáveis **UF**, **Área total** e **Duração** (Calculado na Questão 8). Use o algoritmo KMeans para identificar clusters de obras semelhantes."
   ]
  },
  {
   "cell_type": "code",
   "execution_count": null,
   "metadata": {},
   "outputs": [],
   "source": [
    "#resposta"
   ]
  }
 ],
 "metadata": {
  "kernelspec": {
   "display_name": "Python 3",
   "language": "python",
   "name": "python3"
  },
  "language_info": {
   "name": "python",
   "version": "3.10.8"
  }
 },
 "nbformat": 4,
 "nbformat_minor": 2
}
